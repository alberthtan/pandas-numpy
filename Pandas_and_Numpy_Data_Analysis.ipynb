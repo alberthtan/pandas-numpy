{
  "nbformat": 4,
  "nbformat_minor": 0,
  "metadata": {
    "colab": {
      "name": "Pandas and Numpy Data Analysis.ipynb",
      "provenance": [],
      "collapsed_sections": [],
      "include_colab_link": true
    },
    "kernelspec": {
      "name": "python3",
      "display_name": "Python 3"
    }
  },
  "cells": [
    {
      "cell_type": "markdown",
      "metadata": {
        "id": "view-in-github",
        "colab_type": "text"
      },
      "source": [
        "<a href=\"https://colab.research.google.com/github/alberthtan/pandas-numpy/blob/main/Pandas_and_Numpy_Data_Analysis.ipynb\" target=\"_parent\"><img src=\"https://colab.research.google.com/assets/colab-badge.svg\" alt=\"Open In Colab\"/></a>"
      ]
    },
    {
      "cell_type": "markdown",
      "metadata": {
        "id": "bNsIruOzI4iF"
      },
      "source": [
        "## **Pandas and Numpy Data Analysis**\n"
      ]
    },
    {
      "cell_type": "markdown",
      "metadata": {
        "id": "U3Yz3s2uio1F"
      },
      "source": [
        "\n",
        "\n",
        "**1**: Creating the dataframe from data.\n",
        "\n",
        "**2:** People who are psychologist or teacher and their number of cars is greater than their family size.\n",
        "\n",
        "**3:** People who have at most 2 family members and at least 1 car.\n",
        "\n",
        "**4:** Number of unique jobs in this dataset.\n",
        "\n",
        "\n",
        "\n"
      ]
    },
    {
      "cell_type": "code",
      "metadata": {
        "id": "yR8lcOtcjxXD"
      },
      "source": [
        "data = {\"name\": [\"Joseph\", \"Jacob\", \"Sam\", \"Jesee\", \"Ryan\", \"Lisa\", \"Lee\"],\n",
        "        \"job\": [\"teacher\", \"psychologist\", \"data scientist\", \"software developer\", \"psychologist\", \"psychologist\", \"teacher\"],\n",
        "        \"family_size\": [3, 2, 1, 4, 2, 3, 2],\n",
        "        \"num_cars\": [3, 1, 1, 2, 2, 4, 1]}"
      ],
      "execution_count": 2,
      "outputs": []
    },
    {
      "cell_type": "code",
      "metadata": {
        "id": "n-hgNEUS0C4B"
      },
      "source": [
        "# import libraries\n",
        "import numpy as np\n",
        "import pandas as pd"
      ],
      "execution_count": 3,
      "outputs": []
    },
    {
      "cell_type": "code",
      "metadata": {
        "id": "Youi5qMaP34p",
        "colab": {
          "base_uri": "https://localhost:8080/"
        },
        "outputId": "6fa95e3e-77de-4b62-a4b1-b46b66b9ac18"
      },
      "source": [
        "print(\"1\")\n",
        "df = pd.DataFrame(data)\n",
        "print(df)\n",
        "\n",
        "print(\"\\n2\")\n",
        "df1 = df[((df.job == 'teacher') | (df.job == 'psychologist')) & (df.num_cars > df.family_size)]\n",
        "print(df1)\n",
        "\n",
        "print(\"\\n3\")\n",
        "df2 = df[(df.family_size <= 2) & (df.num_cars >= 1)]\n",
        "print(df2)\n",
        "\n",
        "print(\"\\n4\")\n",
        "num_unique_jobs = len(set(df['job']))\n",
        "print(\"The number of unique jobs is\", num_unique_jobs)"
      ],
      "execution_count": 7,
      "outputs": [
        {
          "output_type": "stream",
          "text": [
            "     name                 job  family_size  num_cars\n",
            "0  Joseph             teacher            3         3\n",
            "1   Jacob        psychologist            2         1\n",
            "2     Sam      data scientist            1         1\n",
            "3   Jesee  software developer            4         2\n",
            "4    Ryan        psychologist            2         2\n",
            "5    Lisa        psychologist            3         4\n",
            "6     Lee             teacher            2         1\n",
            "   name           job  family_size  num_cars\n",
            "5  Lisa  psychologist            3         4\n",
            "    name             job  family_size  num_cars\n",
            "1  Jacob    psychologist            2         1\n",
            "2    Sam  data scientist            1         1\n",
            "4   Ryan    psychologist            2         2\n",
            "6    Lee         teacher            2         1\n",
            "The number of unique jobs is 4\n"
          ],
          "name": "stdout"
        }
      ]
    },
    {
      "cell_type": "markdown",
      "metadata": {
        "id": "Ow6nG8k4l91X"
      },
      "source": [
        "**Computing the mean of weights of each fruit.**"
      ]
    },
    {
      "cell_type": "code",
      "metadata": {
        "id": "u-X_DoOzVLLB"
      },
      "source": [
        "import numpy as np\n",
        "fruit = pd.Series(np.random.choice(['apple', 'banana', 'carrot'], 10))\n",
        "weights = pd.Series(np.linspace(1, 10, 10))     "
      ],
      "execution_count": 8,
      "outputs": []
    },
    {
      "cell_type": "code",
      "metadata": {
        "id": "S419nzYnpU__",
        "colab": {
          "base_uri": "https://localhost:8080/"
        },
        "outputId": "4235ce56-8a45-4b45-b8c8-628bfb479ced"
      },
      "source": [
        "print(fruit)\n",
        "print(weights)\n",
        "\n",
        "mean_apples = np.mean(weights[fruit == 'apple'])\n",
        "mean_bananas = np.mean(weights[fruit == 'banana'])\n",
        "mean_carrots = np.mean(weights[fruit == 'carrot'])\n",
        "print(\"The mean weight of the apples is\", mean_apples)\n",
        "print(\"The mean weight of the bananas is\", mean_bananas)\n",
        "print(\"The mean weight of the carrots is\", mean_carrots)"
      ],
      "execution_count": 9,
      "outputs": [
        {
          "output_type": "stream",
          "text": [
            "0    carrot\n",
            "1     apple\n",
            "2    carrot\n",
            "3    banana\n",
            "4    carrot\n",
            "5    carrot\n",
            "6     apple\n",
            "7     apple\n",
            "8    banana\n",
            "9     apple\n",
            "dtype: object\n",
            "0     1.0\n",
            "1     2.0\n",
            "2     3.0\n",
            "3     4.0\n",
            "4     5.0\n",
            "5     6.0\n",
            "6     7.0\n",
            "7     8.0\n",
            "8     9.0\n",
            "9    10.0\n",
            "dtype: float64\n",
            "The mean weight of the apples is 6.75\n",
            "The mean weight of the bananas is 6.5\n",
            "The mean weight of the carrots is 3.75\n"
          ],
          "name": "stdout"
        }
      ]
    },
    {
      "cell_type": "markdown",
      "metadata": {
        "id": "g4lKaPIhtVrt"
      },
      "source": [
        "\n",
        "**1**: Getting the indices of the sorted elements of **course_name** array.\n",
        "\n",
        "**2:** Checking whether each element of **course_name** array starts with \"P\".\n"
      ]
    },
    {
      "cell_type": "code",
      "metadata": {
        "id": "RUP_jp2KtVrx"
      },
      "source": [
        "import numpy as np\n",
        "course_name = np.array(['Python', 'JS', 'examples', 'PHP', 'html'])"
      ],
      "execution_count": 10,
      "outputs": []
    },
    {
      "cell_type": "code",
      "metadata": {
        "id": "U1i27POxv-o_",
        "colab": {
          "base_uri": "https://localhost:8080/"
        },
        "outputId": "5d4e73ba-2b45-4c89-bbb0-da7c150a9018"
      },
      "source": [
        "# Type your solution here\n",
        "\n",
        "print(\"1\")\n",
        "print(\"Original:\", course_name)\n",
        "print(\"Sorted:\", np.sort(course_name))\n",
        "print(\"Indices of sorted:\", np.argsort(course_name)) # indices of the sorted elements\n",
        "\n",
        "print(\"\\n2\")\n",
        "check = np.char.find(course_name, 'P') == 0\n",
        "print(\"Original:\", course_name)\n",
        "print(check)"
      ],
      "execution_count": 14,
      "outputs": [
        {
          "output_type": "stream",
          "text": [
            "Original: ['Python' 'JS' 'examples' 'PHP' 'html']\n",
            "Sorted: ['JS' 'PHP' 'Python' 'examples' 'html']\n",
            "Indices of sorted: [1 3 0 2 4]\n",
            "\n",
            "Original: ['Python' 'JS' 'examples' 'PHP' 'html']\n",
            "[ True False False  True False]\n"
          ],
          "name": "stdout"
        }
      ]
    },
    {
      "cell_type": "markdown",
      "metadata": {
        "id": "sUFItNFOxwkz"
      },
      "source": [
        "**1:** Reversing the **student_id** array. \n",
        "\n",
        "**2:** Getting the 3-largest values of **student_id** array."
      ]
    },
    {
      "cell_type": "code",
      "metadata": {
        "id": "Rl5qzEjFv0nw"
      },
      "source": [
        "import numpy as np\n",
        "student_id = np.array([1023, 5202, 6230, 1671, 1682, 5241, 4532])"
      ],
      "execution_count": 12,
      "outputs": []
    },
    {
      "cell_type": "code",
      "metadata": {
        "id": "EetvHGrUxMCC",
        "colab": {
          "base_uri": "https://localhost:8080/"
        },
        "outputId": "4734fa6b-0ab5-4343-fb6f-b0bdc0c6b1b5"
      },
      "source": [
        "# Type your solution here\n",
        "print('1')\n",
        "reversed = np.flip(student_id)\n",
        "print(\"Original Array:\", student_id)\n",
        "print(\"Reversed Array:\", reversed)\n",
        "\n",
        "print('\\n2')\n",
        "sorted = np.sort(student_id)\n",
        "print(\"Three largest numbers:\", sorted[:-4:-1])"
      ],
      "execution_count": 13,
      "outputs": [
        {
          "output_type": "stream",
          "text": [
            "1\n",
            "Original Array: [1023 5202 6230 1671 1682 5241 4532]\n",
            "Reversed Array: [4532 5241 1682 1671 6230 5202 1023]\n",
            "\n",
            "2\n",
            "Three largest numbers: [6230 5241 5202]\n"
          ],
          "name": "stdout"
        }
      ]
    },
    {
      "cell_type": "markdown",
      "metadata": {
        "id": "uKRyDVuW6B19"
      },
      "source": [
        "# Printing the sum of all the multiples of 3 or 5 below 100"
      ]
    },
    {
      "cell_type": "code",
      "metadata": {
        "id": "ZIixq1gz6OK3",
        "colab": {
          "base_uri": "https://localhost:8080/"
        },
        "outputId": "f4e1d1e5-4b71-47d1-ed00-6ad678f2199f"
      },
      "source": [
        "numbers = np.arange(0, 100, 1)\n",
        "\n",
        "divisible = numbers[(numbers % 3 == 0) | (numbers % 5 == 0)]\n",
        "print(\"The sum of all the multiples of 3 or 5 below 100 is\", np.sum(divisible)) "
      ],
      "execution_count": null,
      "outputs": [
        {
          "output_type": "stream",
          "text": [
            "The sum of all the multiples of 3 or 5 below 100 is 2318\n"
          ],
          "name": "stdout"
        }
      ]
    },
    {
      "cell_type": "markdown",
      "metadata": {
        "id": "2CWJOsP24c34"
      },
      "source": [
        "\n",
        "1. Swapping column 1 with column 2.\n",
        "\n",
        "2. Swapping row 0 with row 1."
      ]
    },
    {
      "cell_type": "code",
      "metadata": {
        "id": "3OG6X5Eg5KSM",
        "colab": {
          "base_uri": "https://localhost:8080/"
        },
        "outputId": "8957a47e-eaf5-4b71-e663-3b7da3163c25"
      },
      "source": [
        "import numpy as np\n",
        "\n",
        "arr = np.arange(12).reshape(3,4)\n",
        "print(arr)"
      ],
      "execution_count": 15,
      "outputs": [
        {
          "output_type": "stream",
          "text": [
            "[[ 0  1  2  3]\n",
            " [ 4  5  6  7]\n",
            " [ 8  9 10 11]]\n"
          ],
          "name": "stdout"
        }
      ]
    },
    {
      "cell_type": "code",
      "metadata": {
        "id": "Q-Q91DpO5YYW",
        "colab": {
          "base_uri": "https://localhost:8080/"
        },
        "outputId": "dbc759b8-b69e-446a-a6ad-59ed554d2f41"
      },
      "source": [
        "print('1')\n",
        "arr[:, [1,2]] = arr[:, [2,1]]\n",
        "print(arr)\n",
        "\n",
        "print('\\n2')\n",
        "arr[[0,1], :] = arr[[1,0], :]\n",
        "print(arr)"
      ],
      "execution_count": 18,
      "outputs": [
        {
          "output_type": "stream",
          "text": [
            "1\n",
            "[[ 0  2  1  3]\n",
            " [ 4  6  5  7]\n",
            " [ 8 10  9 11]]\n",
            "\n",
            "2\n",
            "[[ 4  6  5  7]\n",
            " [ 0  2  1  3]\n",
            " [ 8 10  9 11]]\n"
          ],
          "name": "stdout"
        }
      ]
    }
  ]
}